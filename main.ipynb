{
 "cells": [
  {
   "cell_type": "code",
   "execution_count": 1,
   "metadata": {},
   "outputs": [],
   "source": [
    "import yfinance as yf\n",
    "import pandas as pd\n",
    "import numpy as np\n",
    "from scipy.optimize import minimize\n",
    "from matplotlib import pyplot as plt"
   ]
  },
  {
   "cell_type": "code",
   "execution_count": 10,
   "metadata": {},
   "outputs": [
    {
     "name": "stdout",
     "output_type": "stream",
     "text": [
      "[*********************100%%**********************]  503 of 503 completed"
     ]
    },
    {
     "name": "stderr",
     "output_type": "stream",
     "text": [
      "\n",
      "8 Failed downloads:\n",
      "['PSX', 'SWKS', 'XYL', 'IDXX', 'WRK', 'CZR']: Exception('%ticker%: No price data found, symbol may be delisted (1d 2019-03-31 00:00:00 -> 2024-03-31 00:00:00)')\n",
      "['SOLV', 'GEV']: Exception(\"%ticker%: Data doesn't exist for startDate = 1554004800, endDate = 1711857600\")\n"
     ]
    },
    {
     "name": "stdout",
     "output_type": "stream",
     "text": [
      "\n"
     ]
    }
   ],
   "source": [
    "# Downloading S&P 500 data for the past 5 years\n",
    "sp500 = pd.read_html('https://en.wikipedia.org/wiki/List_of_S%26P_500_companies')[0] # Taking the ticker symbols from wikipedia\n",
    "sp500['Symbol'] = sp500['Symbol'].str.replace('.', '-') # Yahoo Finance uses dashes instead of dots\n",
    "tickers = sp500['Symbol'].unique().tolist() # Get all unique tickers\n",
    "end_date = pd.to_datetime('2024-03-31') # End date is the last date of FY23-24\n",
    "start_date = end_date - pd.DateOffset(years=5) # Taking 5 years of data\n",
    "df = yf.download(tickers, start=start_date, end=end_date) # Downloading data"
   ]
  },
  {
   "cell_type": "code",
   "execution_count": 11,
   "metadata": {},
   "outputs": [
    {
     "name": "stdout",
     "output_type": "stream",
     "text": [
      "Shape of the data in (Days, Companies): (1258, 486)\n"
     ]
    }
   ],
   "source": [
    "adj_close = df['Adj Close'] # Taking the adjusted close prices\n",
    "adj_close = adj_close.dropna(axis=1) # Dropping columns with all NaN values\n",
    "adj_close.to_csv('sp500_adj_close.csv') # Saving the data to a csv file\n",
    "print(\"Shape of the data in (Days, Companies):\", adj_close.shape)"
   ]
  },
  {
   "cell_type": "code",
   "execution_count": null,
   "metadata": {},
   "outputs": [],
   "source": []
  }
 ],
 "metadata": {
  "kernelspec": {
   "display_name": "Python 3",
   "language": "python",
   "name": "python3"
  },
  "language_info": {
   "codemirror_mode": {
    "name": "ipython",
    "version": 3
   },
   "file_extension": ".py",
   "mimetype": "text/x-python",
   "name": "python",
   "nbconvert_exporter": "python",
   "pygments_lexer": "ipython3",
   "version": "3.11.9"
  }
 },
 "nbformat": 4,
 "nbformat_minor": 2
}
